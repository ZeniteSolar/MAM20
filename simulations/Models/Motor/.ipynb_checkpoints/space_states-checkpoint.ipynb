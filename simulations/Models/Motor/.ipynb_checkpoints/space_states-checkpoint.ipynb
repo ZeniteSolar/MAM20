{
 "cells": [
  {
   "cell_type": "markdown",
   "metadata": {
    "toc": true
   },
   "source": [
    "<h1>Table of Contents<span class=\"tocSkip\"></span></h1>\n",
    "<div class=\"toc\"><ul class=\"toc-item\"><li><span><a href=\"#Modelagem-de-um-motor-PMDC-usando-Espaço-de-Estados-com-base-nas-curvas-do-fabricante-por-meio-de-otimização\" data-toc-modified-id=\"Modelagem-de-um-motor-PMDC-usando-Espaço-de-Estados-com-base-nas-curvas-do-fabricante-por-meio-de-otimização-1\"><span class=\"toc-item-num\">1&nbsp;&nbsp;</span>Modelagem de um motor PMDC usando Espaço de Estados com base nas curvas do fabricante por meio de otimização</a></span><ul class=\"toc-item\"><li><span><a href=\"#Levantamento-do-sistema-de-equações-de-primeira-ordem-do-sistema\" data-toc-modified-id=\"Levantamento-do-sistema-de-equações-de-primeira-ordem-do-sistema-1.1\"><span class=\"toc-item-num\">1.1&nbsp;&nbsp;</span>Levantamento do sistema de equações de primeira ordem do sistema</a></span><ul class=\"toc-item\"><li><span><a href=\"#Referências:\" data-toc-modified-id=\"Referências:-1.1.1\"><span class=\"toc-item-num\">1.1.1&nbsp;&nbsp;</span>Referências:</a></span></li></ul></li><li><span><a href=\"#Definição-das-equações-no-espaço-de-estados-do-motor-genérico\" data-toc-modified-id=\"Definição-das-equações-no-espaço-de-estados-do-motor-genérico-1.2\"><span class=\"toc-item-num\">1.2&nbsp;&nbsp;</span>Definição das equações no espaço de estados do motor genérico</a></span></li><li><span><a href=\"#Definindo-parâmetros\" data-toc-modified-id=\"Definindo-parâmetros-1.3\"><span class=\"toc-item-num\">1.3&nbsp;&nbsp;</span>Definindo parâmetros</a></span></li><li><span><a href=\"#Simulando-o-motor-para-gerar-a-curva-de-performance\" data-toc-modified-id=\"Simulando-o-motor-para-gerar-a-curva-de-performance-1.4\"><span class=\"toc-item-num\">1.4&nbsp;&nbsp;</span>Simulando o motor para gerar a curva de performance</a></span></li><li><span><a href=\"#Gerando-gráfico-de-performance\" data-toc-modified-id=\"Gerando-gráfico-de-performance-1.5\"><span class=\"toc-item-num\">1.5&nbsp;&nbsp;</span>Gerando gráfico de performance</a></span></li></ul></li></ul></div>"
   ]
  },
  {
   "cell_type": "markdown",
   "metadata": {},
   "source": [
    "# Modelagem de um motor PMDC usando Espaço de Estados com base nas curvas do fabricante por meio de otimização"
   ]
  },
  {
   "cell_type": "markdown",
   "metadata": {},
   "source": [
    " \n",
    "- Sobre Otimização em Python:\n",
    "  - ref 5: https://lmfit.github.io/lmfit-py"
   ]
  },
  {
   "cell_type": "markdown",
   "metadata": {
    "heading_collapsed": true
   },
   "source": [
    "## Levantamento do sistema de equações de primeira ordem do sistema\n",
    "\n",
    "### Referências:\n",
    "- ref 1: http://research.iaun.ac.ir/pd/shahgholianold/pdfs/PaperC_9709.pdf\n",
    "- ref 2: [PMDC Motor Modeling and Parameter Identification for Control Purpose](https://www.researchgate.net/publication/325946951_PMDC_Motor_Modeling_and_Parameter_Identification_for_Control_Purpose)\n",
    "\n",
    "Um motor de corrente contínua ímã permanente pode ser modelado conforme o diagrama da Figura 1, onde:\n",
    "- $V_A$ é a tensão elétrica de armadura, que é aplicada sob os terminais do motor, dada em Volts.\n",
    "- $i_A$ é a corrente elétrica de armadura, que circula pelas espiras do enrolamento do motor, dada em Amperes.\n",
    "- $R_A$ é a resistência de armadura, representando as perdas nas espiras e escovas do motor, dada em Ohms.\n",
    "- $L_A$ é a indutância de armadura, representando a indutância das espiras do enrolamento do motor, dada em Henrys.\n",
    "- $V_{BEMF}$ é a tensão contra-eletromotriz, gerada pela reação do campo magnético do enrolamento do rotor em interação com o campo magnético do estator (ímãs permanentes na carcaça), dada em Volts.\n",
    "\n",
    "\n",
    "Da parte mecânica do diagrama, tem-se:\n",
    "- $T_M$ é o torque eletromecânico, representando o torque diretamente no eixo do motor, dado em Nm.\n",
    "- $T_L$ é o torque da carga, dado em Nm.\n",
    "- $J_M$ é o momento de inércia do motor (com carga, considerado constante), dado em Kgm².\n",
    "- $B_M$ é o coeficiente de fricção viscuoso, reprentando as perdas mecânicas, dado em Nms/rad\n",
    "- $omega_M$ é a velocidade de rotação do eixo, dada em rad/s.\n",
    "- $theta_M$ é a posição do eixo, dada em rad.\n",
    "\n",
    "\n",
    "Para relacionar a parte elétrica e a mecânica têm-se duas constantes equivalentes entre si, úteis para simplificar uma série de detalhes construtivos do motor como número de espiras, número de polos, fluxo por polo, etc:\n",
    "- $K_T$ é a relação torque-ampere do motor, dada em Nm/A.\n",
    "- $K_V$ é a relação volt-rotação do motor, dada em Vs/rad.\n",
    "\n",
    "\n",
    "Resolvendo o circuito temos:\n",
    "$$\n",
    "\\begin{aligned}\n",
    "& V_A(t) = R_A\\,i_A(t) + L_A \\frac{d}{dt}i_A(t) +V_{BEMF}(t) \\\\\n",
    "& V_{BEMF}(t) = K_V\\,\\omega_M(t)\n",
    "\\end{aligned}\n",
    "$$\n",
    "\n",
    "\n",
    "Aplicando a segunda lei de Newton temos:\n",
    "$$\n",
    "\\begin{aligned}\n",
    "& T_M(t) = J_M \\frac{d}{dt}\\omega_M(t) + B\\omega_M(t) + T_L(t) \\\\\n",
    "& T_L(t) = K_T\\,i_A(t) \\\\\n",
    "& \\omega_M(t) = \\frac{d}{dt}\\theta_M(t)\n",
    "\\end{aligned}\n",
    "$$\n",
    "\n",
    "Podemos rearranjar as equações para termos um sistema de equações de primeira ordem no formato utilizado para trabalhar com espaço de estados:\n",
    "\n",
    "$$\n",
    "\\begin{align}\n",
    "& \\frac{d}{d t} \\operatorname{i_{A}}{\\left(t \\right)} = - \\frac{K_{T} \\omega_{M}{\\left(t \\right)}}{L_{A}} - \\frac{R_{A} \\operatorname{i_{A}}{\\left(t \\right)}}{L_{A}} + \\frac{\\operatorname{V_{A}}{\\left(t \\right)}}{L_{A}} \\\\\n",
    "& \\frac{d}{d t} \\omega_{M}{\\left(t \\right)} = - \\frac{B_{M} \\omega_{M}{\\left(t \\right)}}{J_{M}} + \\frac{K_{T} \\operatorname{i_{A}}{\\left(t \\right)}}{J_{M}} - \\frac{\\operatorname{T_{L}}{\\left(t \\right)}}{J_{M}} \\\\\n",
    "& \\frac{d}{d t} \\theta_{M}{\\left(t \\right)} = \\omega_{M}{\\left(t \\right)}\n",
    "\\end{align}\n",
    "$$\n",
    "\n",
    "Em Python podemos utilizar a biblioteca Sympy para escrever tais equações:"
   ]
  },
  {
   "cell_type": "code",
   "execution_count": 1,
   "metadata": {
    "hidden": true
   },
   "outputs": [
    {
     "data": {
      "text/latex": [
       "$\\displaystyle \\frac{d}{d t} \\operatorname{i_{A}}{\\left(t \\right)} = - \\frac{K_{T} \\omega_{M}{\\left(t \\right)}}{L_{A}} - \\frac{R_{A} \\operatorname{i_{A}}{\\left(t \\right)}}{L_{A}} + \\frac{\\operatorname{V_{A}}{\\left(t \\right)}}{L_{A}}$"
      ],
      "text/plain": [
       "Eq(Derivative(i_A(t), t), -K_T*omega_M(t)/L_A - R_A*i_A(t)/L_A + V_A(t)/L_A)"
      ]
     },
     "metadata": {},
     "output_type": "display_data"
    },
    {
     "data": {
      "text/latex": [
       "$\\displaystyle \\frac{d}{d t} \\omega_{M}{\\left(t \\right)} = - \\frac{B_{M} \\omega_{M}{\\left(t \\right)}}{J_{M}} + \\frac{K_{T} \\operatorname{i_{A}}{\\left(t \\right)}}{J_{M}} - \\frac{\\operatorname{T_{L}}{\\left(t \\right)}}{J_{M}}$"
      ],
      "text/plain": [
       "Eq(Derivative(omega_M(t), t), -B_M*omega_M(t)/J_M + K_T*i_A(t)/J_M - T_L(t)/J_M)"
      ]
     },
     "metadata": {},
     "output_type": "display_data"
    },
    {
     "data": {
      "text/latex": [
       "$\\displaystyle \\frac{d}{d t} \\theta_{M}{\\left(t \\right)} = \\omega_{M}{\\left(t \\right)}$"
      ],
      "text/plain": [
       "Eq(Derivative(theta_M(t), t), omega_M(t))"
      ]
     },
     "metadata": {},
     "output_type": "display_data"
    },
    {
     "name": "stdout",
     "output_type": "stream",
     "text": [
      "\\frac{d}{d t} \\operatorname{i_{A}}{\\left(t \\right)} = - \\frac{K_{T} \\omega_{M}{\\left(t \\right)}}{L_{A}} - \\frac{R_{A} \\operatorname{i_{A}}{\\left(t \\right)}}{L_{A}} + \\frac{\\operatorname{V_{A}}{\\left(t \\right)}}{L_{A}}\n",
      "\\frac{d}{d t} \\omega_{M}{\\left(t \\right)} = - \\frac{B_{M} \\omega_{M}{\\left(t \\right)}}{J_{M}} + \\frac{K_{T} \\operatorname{i_{A}}{\\left(t \\right)}}{J_{M}} - \\frac{\\operatorname{T_{L}}{\\left(t \\right)}}{J_{M}}\n",
      "\\frac{d}{d t} \\theta_{M}{\\left(t \\right)} = \\omega_{M}{\\left(t \\right)}\n"
     ]
    }
   ],
   "source": [
    "import sympy as sym\n",
    "  \n",
    "d = sym.Derivative\n",
    "f = sym.Function\n",
    "t, s = sym.symbols('t s', constant=False)\n",
    "\n",
    "# Functions\n",
    "i_A = f('i_A')(t)\n",
    "V_A = f('V_A')(t)\n",
    "omega_M = f('omega_M')(t)\n",
    "theta_M = f('theta_M')(t)\n",
    "T_L = f('T_L')(t)\n",
    "\n",
    "# Constants\n",
    "R_A, L_A, K_T, K_V, J_M, B_M = sym.symbols('R_A L_A K_T K_V J_M B_M', real=True, constant=True, positive=True)\n",
    "\n",
    "# Equations\n",
    "eq1 = sym.Eq(d(i_A, t), -(R_A / L_A)*i_A -(K_T / L_A)*omega_M +(1 / L_A)*V_A)\n",
    "eq2 = sym.Eq(d(omega_M, t), (K_T / J_M)*i_A -(B_M / J_M)*omega_M -(1 / J_M)*T_L )\n",
    "eq3 = sym.Eq(d(theta_M, t), omega_M)\n",
    "\n",
    "display(eq1, eq2, eq3)\n",
    "\n",
    "sym.init_printing()  # we can use print(latex(...)) to get latex code\n",
    "print(sym.latex(eq1))\n",
    "print(sym.latex(eq2))\n",
    "print(sym.latex(eq3))"
   ]
  },
  {
   "cell_type": "markdown",
   "metadata": {},
   "source": [
    "## Definição das equações no espaço de estados do motor genérico\n",
    "- Sobre Controle e Espaço de Estados em Python:\n",
    "  - ref 3: https://dynamics-and-control.readthedocs.io\n",
    "  - ref 4: https://en.wikibooks.org/wiki/Control_Systems\n",
    "\n",
    "O formato padrão de espaço de estados pode ser descrito abaixo, sendo:\n",
    "- $X$ os estados do sistema, de formato $n \\times 1$\n",
    "- $U$ as entradas do sistema, de formato $m \\times 1$\n",
    "- $Y$ as saídas do sistema, de formato $p \\times 1$\n",
    "- $A$ a matriz de transição de estados, de formato $n \\times n$\n",
    "- $B$ a matriz de entradas, de formato $n \\times m$\n",
    "- $C$ a matriz de saída, de formato $p \\times n$\n",
    "- $D$ a matriz do resto, de formato $p \\times m$\n",
    "\n",
    "$$\n",
    "\\begin{align}\n",
    "& \\frac{d}{d t} X{\\left(t \\right)} = A X{\\left(t \\right)} + B U{\\left(t \\right)} \\\\\n",
    "& Y{\\left(t \\right)} = C X{\\left(t \\right)} + D U{\\left(t \\right)}\n",
    "\\end{align}\n",
    "$$\n",
    "\n",
    "\n",
    "Podemos novamente utilizar a biblioteca Sympy para escrever tais equações:"
   ]
  },
  {
   "cell_type": "code",
   "execution_count": 2,
   "metadata": {
    "code_folding": [
     0
    ]
   },
   "outputs": [
    {
     "data": {
      "image/png": "[encoded data removed]",
      "text/latex": [
       "$\\displaystyle \\frac{d}{d t} X{\\left(t \\right)} = A X{\\left(t \\right)} + B U{\\left(t \\right)}$"
      ],
      "text/plain": [
       "d                         \n",
       "──(X(t)) = A⋅X(t) + B⋅U(t)\n",
       "dt                        "
      ]
     },
     "metadata": {},
     "output_type": "display_data"
    },
    {
     "data": {
      "image/png": "[encoded data removed]",
      "text/latex": [
       "$\\displaystyle Y{\\left(t \\right)} = C X{\\left(t \\right)} + D U{\\left(t \\right)}$"
      ],
      "text/plain": [
       "Y(t) = C⋅X(t) + D⋅U(t)"
      ]
     },
     "metadata": {},
     "output_type": "display_data"
    },
    {
     "name": "stdout",
     "output_type": "stream",
     "text": [
      "\\frac{d}{d t} X{\\left(t \\right)} = A X{\\left(t \\right)} + B U{\\left(t \\right)}\n",
      "Y{\\left(t \\right)} = C X{\\left(t \\right)} + D U{\\left(t \\right)}\n"
     ]
    }
   ],
   "source": [
    "# Space state dummy functions\n",
    "X = f('X')(t)  # states\n",
    "Y = f('Y')(t)  # output\n",
    "U = f('U')(t)  # inputs\n",
    "\n",
    "# Space states dummy matrix variables\n",
    "A, B, C, D = sym.symbols('A B C D')\n",
    "\n",
    "# Dummy standard space states equations\n",
    "eq_ss1 = sym.Eq(d(X, t), A * X + B * U)\n",
    "eq_ss2 = sym.Eq(Y, C * X + D * U)\n",
    "\n",
    "display(eq_ss1, eq_ss2)\n",
    "print(sym.latex(eq_ss1))\n",
    "print(sym.latex(eq_ss2))"
   ]
  },
  {
   "cell_type": "markdown",
   "metadata": {},
   "source": [
    "Para a modelagem aqui apresentada, utilizaremos os estados $x_0$ e $x_1$ como $\\omega_M$ e $i_A$, respectivamente. Para as entradas $u_0$ e $u_1$ podemos considerar o torque no eixo $T_L$ e a tensão de armadura $V_A$, respectivamente, e para a saída $y_0$, $\\omega_M$.\n",
    "\n",
    "Deste modo, podemos definir as matrizes $X$, $U$, $Y$, $A$, $B$, $C$, $D$, e verificar as equações de espaço de estados resultante:"
   ]
  },
  {
   "cell_type": "code",
   "execution_count": 3,
   "metadata": {
    "code_folding": [
     0
    ]
   },
   "outputs": [
    {
     "data": {
      "text/latex": [
       "$\\displaystyle \\frac{d}{d t} \\left[\\begin{matrix}\\omega_{M}{\\left(t \\right)}\\\\\\operatorname{i_{A}}{\\left(t \\right)}\\end{matrix}\\right] = \\left[\\begin{matrix}- \\frac{B_{M} \\omega_{M}{\\left(t \\right)}}{J_{M}} + \\frac{K_{T} \\operatorname{i_{A}}{\\left(t \\right)}}{J_{M}} - \\frac{\\operatorname{T_{L}}{\\left(t \\right)}}{J_{M}}\\\\- \\frac{K_{V} \\omega_{M}{\\left(t \\right)}}{L_{A}} - \\frac{R_{A} \\operatorname{i_{A}}{\\left(t \\right)}}{L_{A}} + \\frac{\\operatorname{V_{A}}{\\left(t \\right)}}{L_{A}}\\end{matrix}\\right]$"
      ],
      "text/plain": [
       "               ⎡  B_M⋅ω_M(t)   K_T⋅i_A(t)   T_L(t)⎤\n",
       "               ⎢- ────────── + ────────── - ──────⎥\n",
       "d ⎛⎡ω_M(t)⎤⎞   ⎢     J_M          J_M        J_M  ⎥\n",
       "──⎜⎢      ⎥⎟ = ⎢                                  ⎥\n",
       "dt⎝⎣i_A(t)⎦⎠   ⎢  K_V⋅ω_M(t)   R_A⋅i_A(t)   V_A(t)⎥\n",
       "               ⎢- ────────── - ────────── + ──────⎥\n",
       "               ⎣     L_A          L_A        L_A  ⎦"
      ]
     },
     "metadata": {},
     "output_type": "display_data"
    },
    {
     "data": {
      "text/latex": [
       "$\\displaystyle \\left[\\begin{matrix}\\omega_{M}{\\left(t \\right)}\\end{matrix}\\right] = \\left[\\begin{matrix}\\omega_{M}{\\left(t \\right)}\\end{matrix}\\right]$"
      ],
      "text/plain": [
       "[ω_M(t)] = [ω_M(t)]"
      ]
     },
     "metadata": {},
     "output_type": "display_data"
    },
    {
     "name": "stdout",
     "output_type": "stream",
     "text": [
      "\\frac{d}{d t} \\left[\\begin{matrix}\\omega_{M}{\\left(t \\right)}\\\\\\operatorname{i_{A}}{\\left(t \\right)}\\end{matrix}\\right] = \\left[\\begin{matrix}- \\frac{B_{M} \\omega_{M}{\\left(t \\right)}}{J_{M}} + \\frac{K_{T} \\operatorname{i_{A}}{\\left(t \\right)}}{J_{M}} - \\frac{\\operatorname{T_{L}}{\\left(t \\right)}}{J_{M}}\\\\- \\frac{K_{V} \\omega_{M}{\\left(t \\right)}}{L_{A}} - \\frac{R_{A} \\operatorname{i_{A}}{\\left(t \\right)}}{L_{A}} + \\frac{\\operatorname{V_{A}}{\\left(t \\right)}}{L_{A}}\\end{matrix}\\right]\n",
      "\\left[\\begin{matrix}\\omega_{M}{\\left(t \\right)}\\end{matrix}\\right] = \\left[\\begin{matrix}\\omega_{M}{\\left(t \\right)}\\end{matrix}\\right]\n"
     ]
    }
   ],
   "source": [
    "# States, shape 'nx1' -> '2x1'\n",
    "X = sym.Matrix([\n",
    "    [omega_M],\n",
    "    [i_A]\n",
    "])\n",
    "\n",
    "# Inputs, shape 'mx1' -> '2x1'\n",
    "U = sym.Matrix([\n",
    "    [T_L],\n",
    "    [V_A]\n",
    "])\n",
    "\n",
    "# Outputs, shape 'px1' -> '1x1'\n",
    "Y = sym.Matrix([omega_M])\n",
    "\n",
    "# State Transition matrix, shape 'n,n' -> '2x2'\n",
    "A = sym.Matrix([\n",
    "    [-B_M / J_M, K_T / J_M],\n",
    "    [-K_V / L_A, -R_A / L_A]\n",
    "])\n",
    "\n",
    "# Input matrix, shape 'n,m' -> '2x2'\n",
    "B = sym.Matrix([\n",
    "    [-1 / J_M, 0      ],\n",
    "    [0       , 1 / L_A]\n",
    "])\n",
    "\n",
    "# Output matrix, shape 'p,n' -> '1x2'\n",
    "C = sym.Matrix([\n",
    "    [1, 0]\n",
    "])\n",
    "\n",
    "# Remaining matrix, shape 'p,m' -> '1x2'\n",
    "D = sym.Matrix([\n",
    "    [0, 0],\n",
    "])\n",
    "\n",
    "# Display the equations\n",
    "eq_ss1 = sym.Eq(d(X, t), A * X + B * U, evaluate=False)\n",
    "eq_ss2 = sym.Eq(Y      , C * X + D * U, evaluate=False)\n",
    "\n",
    "display(eq_ss1, eq_ss2)\n",
    "print(sym.latex(eq_ss1))\n",
    "print(sym.latex(eq_ss2))"
   ]
  },
  {
   "cell_type": "markdown",
   "metadata": {},
   "source": [
    "## Definindo parâmetros\n",
    "\n",
    "Podemos definir os parâmetros num diciońario _params_ como abaixo:"
   ]
  },
  {
   "cell_type": "code",
   "execution_count": 5,
   "metadata": {},
   "outputs": [
    {
     "name": "stdout",
     "output_type": "stream",
     "text": [
      "Valores nominais dos parâmetros:\n",
      "R_A = 0.025 Ohms\n",
      "L_A = 0.000028 H\n",
      "K_T = 0.1 Nm/A\n",
      "K_V = 0.1 V s/rad\n",
      "J_M = 700E-9 kg m²\n",
      "B_M = 0.003 Nm s/rad\n"
     ]
    }
   ],
   "source": [
    "from decimal import Decimal\n",
    "\n",
    "# Valores dos Parâmetros\n",
    "params = {\n",
    "    'Model': 'ME0909',\n",
    "    R_A: 25e-3,\n",
    "    L_A: 28e-6,\n",
    "    B_M: 0.003,\n",
    "    J_M: 7e-7,\n",
    "    K_T: 0.1,\n",
    "    K_V: 0.0955\n",
    "}\n",
    "\n",
    "print('Valores nominais dos parâmetros:')\n",
    "print(f\"R_A = {Decimal(str(params[R_A])).to_eng_string()} Ohms\")\n",
    "print(f\"L_A = {Decimal(str(params[L_A])).to_eng_string()} H\")\n",
    "print(f\"K_T = {Decimal(str(params[K_T])).to_eng_string()} Nm/A\")\n",
    "print(f\"K_V = {Decimal(str(params[K_T])).to_eng_string()} V s/rad\")\n",
    "print(f\"J_M = {Decimal(str(params[J_M])).to_eng_string()} kg m²\")\n",
    "print(f\"B_M = {Decimal(str(params[B_M])).to_eng_string()} Nm s/rad\")"
   ]
  },
  {
   "cell_type": "markdown",
   "metadata": {},
   "source": [
    "E então podemos montar um objeto do sistema usando a biblioteca [control](), já substituindo os parâmetros (definidos acima) nas matrizes simbólicas $A$, $B$, $C$ e $D$:"
   ]
  },
  {
   "cell_type": "code",
   "execution_count": 6,
   "metadata": {},
   "outputs": [
    {
     "name": "stdout",
     "output_type": "stream",
     "text": [
      "\n",
      "sys = \n",
      "A = [[ -4285.71428571 142857.14285714]\n",
      " [ -3410.71428571   -892.85714286]]\n",
      "\n",
      "B = [[-1428571.42857143        0.        ]\n",
      " [       0.            35714.28571429]]\n",
      "\n",
      "C = [[1. 0.]]\n",
      "\n",
      "D = [[0. 0.]]\n",
      "\n"
     ]
    }
   ],
   "source": [
    "import control\n",
    "\n",
    "sys = control.ss(\n",
    "    A.subs(params),\n",
    "    B.subs(params),\n",
    "    C.subs(params),\n",
    "    D.subs(params)\n",
    ")\n",
    "\n",
    "print(f'\\nsys = \\n{sys}')"
   ]
  },
  {
   "cell_type": "code",
   "execution_count": 7,
   "metadata": {},
   "outputs": [
    {
     "name": "stdout",
     "output_type": "stream",
     "text": [
      "_____Eigenvalue______ Damping___ Frequency_\n",
      "     -2589+2.201e+04j     0.1168  2.216e+04\n",
      "     -2589-2.201e+04j     0.1168  2.216e+04\n",
      "f0 = 3526.89446949405 Hz\n"
     ]
    }
   ],
   "source": [
    "# Identifica parâmetros do sistema\n",
    "wn, zeta, poles = control.damp(sys)\n",
    "fn = wn / (2 * np.pi)\n",
    "f0 = min(fn)\n",
    "print(f'f0 = {f0} Hz')"
   ]
  },
  {
   "cell_type": "markdown",
   "metadata": {},
   "source": [
    "## Simulando o motor para gerar a curva de performance\n",
    "Ainda utilizando a biblioteca [control] podemos simular com sinais arbitrários como entrada recriando a matriz $U$ com vetores contendo o sinal arbitrário desejado. Neste caso, manteve-se a tensão constante e variou-se o torque, como num ensaio de carga.\n",
    "\n",
    "A resposta da simulação é armazenada no vetor t (tempo de simulação) e nas matrizes yout (saídas do sistema) e xout (estados do sistema):"
   ]
  },
  {
   "cell_type": "code",
   "execution_count": 8,
   "metadata": {},
   "outputs": [],
   "source": [
    "# Cria sinal arbitrário de entrada\n",
    "Ts = 0.01  # sample period\n",
    "pulse_time = 100\n",
    "pulse_cycles = 1\n",
    "kmax = int(round(pulse_time * pulse_cycles / Ts))\n",
    "t = np.linspace(\n",
    "    start=0,\n",
    "    stop=pulse_time * pulse_cycles,\n",
    "    num=kmax,\n",
    "    endpoint=False\n",
    ")\n",
    "\n",
    "# Input signals\n",
    "V_A = [36] * kmax\n",
    "T_M = np.linspace(\n",
    "    start=0,\n",
    "    stop=15,\n",
    "    num=kmax,\n",
    "    endpoint=False\n",
    ")\n",
    "U = np.matrix([\n",
    "    T_M,\n",
    "    V_A\n",
    "])\n",
    "\n",
    "# Simula o sistema aplicando o sinal arbitrário na entrada\n",
    "t, yout, xout = control.forced_response(sys, t, U)"
   ]
  },
  {
   "cell_type": "markdown",
   "metadata": {},
   "source": [
    "A partir dos dados simulados, podemos identificar os vetores de interesse como $\\omega_M$ e $I_A$, e fazer uso deles para obter $RPM$, $P_E$ (Potência Elétrica), $P_M$ (Potência Mecânica) e $Eff$ eficiência do motor:"
   ]
  },
  {
   "cell_type": "code",
   "execution_count": 15,
   "metadata": {},
   "outputs": [],
   "source": [
    "omega_M = xout[0]\n",
    "RPM = omega_M * (60 / (2 * np.pi))\n",
    "I_A = xout[1]\n",
    "\n",
    "# Electrical Power\n",
    "P_E = V_A * I_A\n",
    "\n",
    "# Mechanical Power\n",
    "P_M = omega_M * T_M\n",
    "\n",
    "# Efficiency\n",
    "Eff[1:] = P_M[1:] / P_E[1:]\n",
    "Eff[0] = 0"
   ]
  },
  {
   "cell_type": "markdown",
   "metadata": {},
   "source": [
    "## Gerando gráfico de performance\n",
    "Utilizando a biblioteca matplotlib podemos construir um gráfico de múltiplos eixos, como é comum para as curvas de performance construídas pelos fabricantes de motores:"
   ]
  },
  {
   "cell_type": "code",
   "execution_count": 16,
   "metadata": {},
   "outputs": [
    {
     "data": {
      "image/png": "[encoded data removed]",
      "text/plain": [
       "<Figure size 1080x720 with 4 Axes>"
      ]
     },
     "metadata": {},
     "output_type": "display_data"
    }
   ],
   "source": [
    "#ref: https://matplotlib.org/3.1.1/gallery/ticks_and_spines/multiple_yaxis_with_spines.html\n",
    "import matplotlib.pyplot as plt\n",
    "\n",
    "\n",
    "def make_patch_spines_invisible(ax):\n",
    "    ax.set_frame_on(True)\n",
    "    ax.patch.set_visible(False)\n",
    "    for sp in ax.spines.values():\n",
    "        sp.set_visible(False)\n",
    "\n",
    "        \n",
    "fig, ax1 = plt.subplots(figsize=(15,10))\n",
    "fig.subplots_adjust(right=0.75)\n",
    "\n",
    "ax2 = ax1.twinx()\n",
    "ax3 = ax1.twinx()\n",
    "ax4 = ax1.twinx()\n",
    "\n",
    "# Offset the right spine of par2.  The ticks and label have already been\n",
    "# placed on the right by twinx above.\n",
    "ax2.spines[\"right\"].set_position((\"axes\", 1.00))\n",
    "ax3.spines[\"right\"].set_position((\"axes\", 1.1))\n",
    "ax4.spines[\"right\"].set_position((\"axes\", 1.2))\n",
    "# Having been created by twinx, par2 has its frame off, so the line of its\n",
    "# detached spine is invisible.  First, activate the frame but make the patch\n",
    "# and spines invisible.\n",
    "make_patch_spines_invisible(ax2)\n",
    "make_patch_spines_invisible(ax3)\n",
    "make_patch_spines_invisible(ax4)\n",
    "# Second, show the right spine.\n",
    "ax2.spines[\"right\"].set_visible(True)\n",
    "ax3.spines[\"right\"].set_visible(True)\n",
    "ax4.spines[\"right\"].set_visible(True)\n",
    "\n",
    "p1, = ax1.plot(T_M, RPM, color=\"tab:blue\", linestyle='solid', label='RPM', alpha=0.6)\n",
    "p2, = ax2.plot(T_M, I_A, color=\"tab:orange\", linestyle='solid', label='Current [A]', alpha=1)\n",
    "p3, = ax3.plot(T_M, P_E, color=\"tab:green\", linestyle='solid', label='Input Power [W]', alpha=0.6)\n",
    "p3b, = ax3.plot(T_M, P_M, color=\"tab:pink\", linestyle='dotted', label='Output Power [W]', alpha=0.6)\n",
    "p4, = ax4.plot(T_M, Eff, color=\"tab:red\", linestyle='solid', label='Efficiency [%]', alpha=0.6)\n",
    "# tab:olive, tab:cyan, tab:gray, tab:purple, tab:brown\n",
    "\n",
    "# ax1.set_xlim(...)\n",
    "# ax1.set_ylim(...)\n",
    "ax2.set_ylim([0,150])\n",
    "# ax3.set_ylim(...)\n",
    "ax4.set_ylim([0,0.9])\n",
    "\n",
    "ax1.set_xlabel('Load Torque [Nm]')\n",
    "ax1.set_ylabel('Speed [RPM]')\n",
    "ax2.set_ylabel('Current [A]')\n",
    "ax3.set_ylabel('Power [W]')\n",
    "ax4.set_ylabel('Efficiency [%]')\n",
    "\n",
    "ax1.yaxis.label.set_color(p1.get_color())\n",
    "ax2.yaxis.label.set_color(p2.get_color())\n",
    "ax3.yaxis.label.set_color(p3.get_color())\n",
    "ax4.yaxis.label.set_color(p4.get_color())\n",
    "\n",
    "tkw = dict(size=4, width=1.5)\n",
    "\n",
    "ax1.tick_params(axis='y', labelcolor=p1.get_color(), **tkw)\n",
    "ax2.tick_params(axis='y', labelcolor=p2.get_color(), **tkw)\n",
    "ax3.tick_params(axis='y', labelcolor=p3.get_color(), **tkw)\n",
    "ax4.tick_params(axis='y', labelcolor=p4.get_color(), **tkw)\n",
    "ax1.tick_params(axis='x', **tkw)\n",
    "\n",
    "lines = [p1, p2, p3, p3b, p4]\n",
    "ax1.legend(lines, [l.get_label() for l in lines], loc=2)\n",
    "\n",
    "plt.tight_layout()\n",
    "plt.show()"
   ]
  }
 ],
 "metadata": {
  "hide_input": false,
  "kernelspec": {
   "display_name": "Python 3",
   "language": "python",
   "name": "python3"
  },
  "language_info": {
   "codemirror_mode": {
    "name": "ipython",
    "version": 3
   },
   "file_extension": ".py",
   "mimetype": "text/x-python",
   "name": "python",
   "nbconvert_exporter": "python",
   "pygments_lexer": "ipython3",
   "version": "3.9.1"
  },
  "toc": {
   "base_numbering": 1,
   "nav_menu": {},
   "number_sections": true,
   "sideBar": true,
   "skip_h1_title": false,
   "title_cell": "Table of Contents",
   "title_sidebar": "Contents",
   "toc_cell": true,
   "toc_position": {
    "height": "calc(100% - 180px)",
    "left": "10px",
    "top": "150px",
    "width": "255.391px"
   },
   "toc_section_display": true,
   "toc_window_display": true
  },
  "varInspector": {
   "cols": {
    "lenName": 16,
    "lenType": 16,
    "lenVar": 40
   },
   "kernels_config": {
    "python": {
     "delete_cmd_postfix": "",
     "delete_cmd_prefix": "del ",
     "library": "var_list.py",
     "varRefreshCmd": "print(var_dic_list())"
    },
    "r": {
     "delete_cmd_postfix": ") ",
     "delete_cmd_prefix": "rm(",
     "library": "var_list.r",
     "varRefreshCmd": "cat(var_dic_list()) "
    }
   },
   "types_to_exclude": [
    "module",
    "function",
    "builtin_function_or_method",
    "instance",
    "_Feature"
   ],
   "window_display": false
  }
 },
 "nbformat": 4,
 "nbformat_minor": 4
}
